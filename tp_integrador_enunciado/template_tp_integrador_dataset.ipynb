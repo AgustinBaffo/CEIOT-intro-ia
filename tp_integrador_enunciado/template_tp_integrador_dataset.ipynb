{
 "cells": [
  {
   "cell_type": "markdown",
   "id": "27719223",
   "metadata": {},
   "source": [
    "\n",
    "# Trabajo Práctico 2"
   ]
  },
  {
   "cell_type": "markdown",
   "id": "461d011d",
   "metadata": {},
   "source": [
    "Dentro de la carpeta de `data/` vamos a poder encontrar dos datasets:\n",
    "\n",
    "- Pokemon (Problema de clasificacion Multivariada)\n",
    "- Challenger Space Shuttle O-Ring Data (Problema de Regresion multivariada)\n"
   ]
  },
  {
   "cell_type": "markdown",
   "id": "5a976dd3",
   "metadata": {},
   "source": [
    "# Importar librerías\n",
    "\n",
    "Importar aquellas librerías que serán utilizadas en el trabajo."
   ]
  },
  {
   "cell_type": "code",
   "execution_count": null,
   "id": "845b6c50",
   "metadata": {},
   "outputs": [],
   "source": []
  },
  {
   "cell_type": "markdown",
   "id": "954111ce",
   "metadata": {},
   "source": [
    "# Cargar datos\n",
    "Cargar los datos de entrenamiento."
   ]
  },
  {
   "cell_type": "code",
   "execution_count": null,
   "id": "26f41c45",
   "metadata": {},
   "outputs": [],
   "source": []
  },
  {
   "cell_type": "markdown",
   "id": "c93000bd",
   "metadata": {},
   "source": [
    "# Análisis exploratorio básico y preprocesamiento de los datos\n",
    "\n",
    "Análisis de los datos para conocer los mismos, ver datos faltantes, decidir cómo tratarlos, ver distribuciones, relaciones, etc. Procesar los datos centrándolos, reescalando, codificando, reduciendo dimensiones, etc. según considere necesario. "
   ]
  },
  {
   "cell_type": "code",
   "execution_count": null,
   "id": "b66211cd",
   "metadata": {},
   "outputs": [],
   "source": []
  },
  {
   "cell_type": "markdown",
   "id": "13e49832",
   "metadata": {},
   "source": [
    "# Modelos y evaluación\n",
    "Probar diferentes modelos para predecir la variable objetivo. Calcular las métricas que considere relevantes. Comentar los resultados. "
   ]
  },
  {
   "cell_type": "code",
   "execution_count": null,
   "id": "529db73e",
   "metadata": {},
   "outputs": [],
   "source": []
  }
 ],
 "metadata": {
  "kernelspec": {
   "display_name": "Python 3.10.7 ('.venv': venv)",
   "language": "python",
   "name": "python3"
  },
  "language_info": {
   "codemirror_mode": {
    "name": "ipython",
    "version": 3
   },
   "file_extension": ".py",
   "mimetype": "text/x-python",
   "name": "python",
   "nbconvert_exporter": "python",
   "pygments_lexer": "ipython3",
   "version": "3.10.7"
  },
  "vscode": {
   "interpreter": {
    "hash": "23cb2388443d556543181094e3ae896af451ee7d366981f58b81df73afb487db"
   }
  }
 },
 "nbformat": 4,
 "nbformat_minor": 5
}
