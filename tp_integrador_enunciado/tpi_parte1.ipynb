{
  "cells": [
    {
      "attachments": {},
      "cell_type": "markdown",
      "id": "07289bb0",
      "metadata": {},
      "source": [
        "# Trabajo integrador - Parte 1\n",
        "## Python y Numpy\n",
        "\n",
        "**Nombre**:"
      ]
    },
    {
      "cell_type": "code",
      "execution_count": 101,
      "id": "aaf94e0a",
      "metadata": {
        "id": "aaf94e0a"
      },
      "outputs": [],
      "source": [
        "import numpy as np"
      ]
    },
    {
      "attachments": {},
      "cell_type": "markdown",
      "id": "0ffe9554",
      "metadata": {},
      "source": [
        "## Ejercicio 1\n",
        "\n",
        "Dada una matriz en formato *numpy array*, donde cada fila de la matriz representa un vector matemático, se requiere computar las normas $l_0$, $l_1$, $l_2$, $l_{\\infty}$, según la siguientes definiciones:\n",
        "\n",
        "\\begin{equation}\n",
        "    ||\\mathbf{x}||^{p} = \\bigg(\\sum_{j=1}^{n}{|x_i|^p}\\bigg)^{\\frac{1}{p}}\n",
        "\\end{equation}\n",
        "\n",
        "con los casos especiales para $p=0$ y $p=\\infty$ siendo:\n",
        "\n",
        "\\begin{equation}\n",
        "    \\begin{array}{rcl}\n",
        "        ||\\mathbf{x}||_0 & = & \\bigg(\\sum_{j=1 \\wedge x_j != 0}{|x_i|}\\bigg)\\\\\n",
        "        ||\\mathbf{x}||_{\\infty} & = & \\max_{i}{|x_i|}\\\\\n",
        "    \\end{array}\n",
        "\\end{equation}"
      ]
    },
    {
      "cell_type": "code",
      "execution_count": 147,
      "id": "0bdb0ee3",
      "metadata": {},
      "outputs": [],
      "source": [
        "def norm_lp(X,p):\n",
        "    if(p==0):\n",
        "        return np.sum(X!=0, axis=1)\n",
        "    if(p<0):\n",
        "        return np.max(X, axis=1)\n",
        "    \n",
        "    return (np.sum(np.abs(X**p), axis=1)** 1/p)"
      ]
    },
    {
      "cell_type": "code",
      "execution_count": 148,
      "id": "fb132cec",
      "metadata": {},
      "outputs": [
        {
          "name": "stdout",
          "output_type": "stream",
          "text": [
            "norm_l0 = [2 3 4]\n",
            "\n",
            "norm_l1 = [ 4. 14. 11.]\n",
            "\n",
            "norm_l2 = [ 5.  35.  19.5]\n",
            "\n",
            "norm_l-inf = [3 6 5]\n"
          ]
        }
      ],
      "source": [
        "x = np.array([[1,0,3,0],[0,3,5,6],[1,2,3,5]], dtype=int)\n",
        "\n",
        "print(\"norm_l0 = \" +str(norm_lp(x,0)))\n",
        "print(\"\\nnorm_l1 = \" +str(norm_lp(x,1)))\n",
        "print(\"\\nnorm_l2 = \" +str(norm_lp(x,2)))\n",
        "print(\"\\nnorm_l-inf = \" +str(norm_lp(x,-1)))  # -1 para indicar norma infinita"
      ]
    },
    {
      "attachments": {},
      "cell_type": "markdown",
      "id": "dd66d862",
      "metadata": {},
      "source": [
        "## Ejercicio 2\n",
        "\n",
        "En clasificación contamos con dos arreglos, la “verdad” y la “predicción”. Cada elemento de los arreglos pueden tomar dos valores, “True” (representado por 1) y “False” (representado por 0). Entonces podemos definir 4 variables:\n",
        "\n",
        "* True Positive (TP): El valor verdadero es 1 y el valor predicho es 1\n",
        "* True Negative (TN): El valor verdadero es 0 y el valor predicho es 0\n",
        "* False Positive (FP): El valor verdadero es 0 y el valor predicho es 1\n",
        "* False Negative (FN): El valor verdadero es 1 y el valor predicho es 0\n",
        "\n",
        "A partir de esto definimos:\n",
        "\n",
        "* Precision = TP / (TP + FP)\n",
        "* Recall = TP / (TP + FN)\n",
        "* Accuracy = (TP + TN) / (TP + TN + FP + FN)\n",
        " \n",
        "Calcular las 3 métricas con Numpy y operaciones vectorizadas."
      ]
    },
    {
      "cell_type": "code",
      "execution_count": 1,
      "id": "4a063faa",
      "metadata": {},
      "outputs": [],
      "source": [
        "import numpy as np\n",
        "\n",
        "def get_tp(truth,pred):\n",
        "    return np.sum((truth==1)*(pred==1))\n",
        "\n",
        "def get_tn(truth,pred):\n",
        "    return np.sum((truth==0)*(pred==0))\n",
        "    \n",
        "def get_fn(truth,pred):\n",
        "    return np.sum((truth==1)*(pred==0))\n",
        "\n",
        "def get_fp(truth,pred):\n",
        "    return np.sum((truth==0)*(pred==1))\n",
        "\n",
        "def precision(truth,pred):\n",
        "    tp = get_tp(truth,pred)\n",
        "    fp = get_fp(truth,pred)\n",
        "    return tp / (tp + fp)\n",
        "\n",
        "def recall(truth,pred):\n",
        "    tp = get_tp(truth,pred)\n",
        "    fn = get_fn(truth,pred)\n",
        "    return tp / (tp + fn)\n",
        "\n",
        "def accuracy2(truth,pred):\n",
        "    tp = get_tp(truth,pred)\n",
        "    tn = get_tn(truth,pred)\n",
        "    fp = get_fp(truth,pred)\n",
        "    fn = get_fn(truth,pred)\n",
        "    return (tp + tn) / (tp + tn + fp + fn)\n",
        "\n",
        "def accuracy(truth,pred):\n",
        "    return np.sum(truth==pred) / truth.shape[0]"
      ]
    },
    {
      "cell_type": "code",
      "execution_count": 2,
      "id": "794dcd58",
      "metadata": {},
      "outputs": [
        {
          "name": "stdout",
          "output_type": "stream",
          "text": [
            "precision = 0.5\n",
            "recall = 0.5\n",
            "accuracy = 0.4\n",
            "accuracy2 = 0.4\n"
          ]
        }
      ],
      "source": [
        "truth = np.array(     [1,1,0,1,1,1,0,0,0,1])\n",
        "prediction = np.array([1,1,1,1,0,0,1,1,0,0])\n",
        "\n",
        "print('precision = ' + str(precision(truth,prediction)))\n",
        "print('recall = ' + str(recall(truth,prediction)))\n",
        "print('accuracy = ' + str(accuracy(truth,prediction)))\n",
        "print('accuracy2 = ' + str(accuracy2(truth,prediction)))"
      ]
    },
    {
      "cell_type": "markdown",
      "id": "fd8bd3e3",
      "metadata": {},
      "source": []
    },
    {
      "attachments": {},
      "cell_type": "markdown",
      "id": "d0ac6f6f",
      "metadata": {},
      "source": [
        "## Ejercicio 3\n",
        "\n",
        "Crear una función que separe los datos en train-validation-test. Debe recibir de parametros:\n",
        "\n",
        "- X: Array o Dataframe que contiene los datos de entrada del sistema.\n",
        "- y: Array o Dataframe que contiene la(s) variable(s) target del problema.\n",
        "- train_percentage: _float_ el porcentaje de training.\n",
        "- test_percentage: _float_ el porcentaje de testing.\n",
        "- val_percentage: _float_ el porcentaje de validación.\n",
        "- shuffle: _bool_ determina si el split debe hacerse de manera random o no.\n",
        "\n",
        "Hints: \n",
        "\n",
        "* Usar Indexing y slicing\n",
        "* Usar np.random.[...]"
      ]
    },
    {
      "cell_type": "code",
      "execution_count": 118,
      "id": "ca85fc66",
      "metadata": {},
      "outputs": [],
      "source": [
        "def split(X_input,\n",
        "          Y_input,\n",
        "          val_size=0.15,\n",
        "          test_size=0.15,\n",
        "          random_state=42,\n",
        "          shuffle=True):\n",
        "      \n",
        "      _X_input = np.copy(X_input)\n",
        "      _Y_input = np.copy(Y_input)\n",
        "      \n",
        "      if not _X_input.shape[0] == _Y_input.shape[0]:\n",
        "            raise ValueError(\"Los datos (X_input, Y_input) tienen distintas longitudes.\")\n",
        "      \n",
        "      train_size = 1 - test_size - val_size\n",
        "\n",
        "      if(train_size<0):\n",
        "            raise ValueError(\"El porcentaje de datos de validacion y test no puede ser mayor al 100%.\")\n",
        "      \n",
        "      # Mezclar los datos de manera tal que ambos conserven los mismos indices\n",
        "      if(shuffle):\n",
        "            np.random.seed(random_state)\n",
        "            ran_idx = np.random.permutation(len(_X_input))\n",
        "            _X_input = _X_input[ran_idx]\n",
        "            _Y_input = _Y_input[ran_idx]\n",
        "\n",
        "      total_len = _X_input.shape[0]\n",
        "      train_len = int(train_size*total_len)\n",
        "      val_len = int(val_size*total_len)\n",
        "\n",
        "      X_train = np.array(_X_input[0:train_len])\n",
        "      X_val = np.array(_X_input[train_len:train_len+val_len])\n",
        "      X_test = np.array(_X_input[train_len+val_len:total_len])\n",
        "\n",
        "      Y_train = np.array(_Y_input[0:train_len])\n",
        "      Y_val = np.array(_Y_input[train_len:train_len+val_len])\n",
        "      Y_test = np.array(_Y_input[train_len+val_len:total_len])\n",
        "\n",
        "      return X_train, X_val, X_test, Y_train, Y_val, Y_test\n",
        "      \n"
      ]
    },
    {
      "cell_type": "code",
      "execution_count": 131,
      "id": "a11472fe",
      "metadata": {},
      "outputs": [
        {
          "name": "stdout",
          "output_type": "stream",
          "text": [
            "X_train: \n",
            "[[ 0 10 20]\n",
            " [ 1 11 21]\n",
            " [ 2 12 22]\n",
            " [ 3 13 23]\n",
            " [ 4 14 24]\n",
            " [ 5 15 25]\n",
            " [ 6 16 26]]\n",
            "\n",
            "X_val: \n",
            "[[ 7 17 27]]\n",
            "\n",
            "X_test: \n",
            "[[ 8 18 28]\n",
            " [ 9 19 29]]\n",
            "\n",
            "Y_train: \n",
            "[100 101 102 103 104 105 106]\n",
            "\n",
            "Y_val: \n",
            "[107]\n",
            "\n",
            "Y_test: \n",
            "[108 109]\n",
            "\n"
          ]
        }
      ],
      "source": [
        "X = np.array([[0,1,2,3,4,5,6,7,8,9],[10,11,12,13,14,15,16,17,18,19],[20,21,22,23,24,25,26,27,28,29]]).T\n",
        "Y = np.array([100,101,102,103,104,105,106,107,108,109])\n",
        "\n",
        "X_train, X_val, X_test, Y_train, Y_val, Y_test = split(X, Y, shuffle=False)\n",
        "print(\"X_train: \\n\"+str(X_train)+\"\\n\")\n",
        "print(\"X_val: \\n\"+str(X_val)+\"\\n\")\n",
        "print(\"X_test: \\n\"+str(X_test)+\"\\n\")\n",
        "print(\"Y_train: \\n\"+str(Y_train)+\"\\n\")\n",
        "print(\"Y_val: \\n\"+str(Y_val)+\"\\n\")\n",
        "print(\"Y_test: \\n\"+str(Y_test)+\"\\n\")"
      ]
    },
    {
      "cell_type": "code",
      "execution_count": 132,
      "id": "7334abd3",
      "metadata": {},
      "outputs": [
        {
          "name": "stdout",
          "output_type": "stream",
          "text": [
            "X_train: \n",
            "[[ 8 18 28]\n",
            " [ 7 17 27]\n",
            " [ 1 11 21]\n",
            " [ 0 10 20]\n",
            " [ 6 16 26]\n",
            " [ 4 14 24]\n",
            " [ 5 15 25]]\n",
            "\n",
            "X_val: \n",
            "[[ 3 13 23]]\n",
            "\n",
            "X_test: \n",
            "[[ 9 19 29]\n",
            " [ 2 12 22]]\n",
            "\n",
            "Y_train: \n",
            "[108 107 101 100 106 104 105]\n",
            "\n",
            "Y_val: \n",
            "[103]\n",
            "\n",
            "Y_test: \n",
            "[109 102]\n",
            "\n"
          ]
        }
      ],
      "source": [
        "X_train, X_val, X_test, Y_train, Y_val, Y_test = split(X, Y, shuffle=True)\n",
        "print(\"X_train: \\n\"+str(X_train)+\"\\n\")\n",
        "print(\"X_val: \\n\"+str(X_val)+\"\\n\")\n",
        "print(\"X_test: \\n\"+str(X_test)+\"\\n\")\n",
        "print(\"Y_train: \\n\"+str(Y_train)+\"\\n\")\n",
        "print(\"Y_val: \\n\"+str(Y_val)+\"\\n\")\n",
        "print(\"Y_test: \\n\"+str(Y_test)+\"\\n\")"
      ]
    },
    {
      "cell_type": "code",
      "execution_count": null,
      "id": "42136eb9",
      "metadata": {},
      "outputs": [],
      "source": []
    }
  ],
  "metadata": {
    "colab": {
      "collapsed_sections": [],
      "name": "Practica_clase_3.ipynb",
      "provenance": []
    },
    "kernelspec": {
      "display_name": "Python 3.10.7 64-bit",
      "language": "python",
      "name": "python3"
    },
    "language_info": {
      "codemirror_mode": {
        "name": "ipython",
        "version": 3
      },
      "file_extension": ".py",
      "mimetype": "text/x-python",
      "name": "python",
      "nbconvert_exporter": "python",
      "pygments_lexer": "ipython3",
      "version": "3.8.10"
    },
    "vscode": {
      "interpreter": {
        "hash": "b5c22da4a52024410f64f9c5a5e2b4ffeeb944a5ed00e8825a42174cdab30315"
      }
    }
  },
  "nbformat": 4,
  "nbformat_minor": 5
}
