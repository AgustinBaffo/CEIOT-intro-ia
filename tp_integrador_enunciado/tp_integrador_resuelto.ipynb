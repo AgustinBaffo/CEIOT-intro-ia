{
  "cells": [
    {
      "cell_type": "code",
      "execution_count": 1,
      "id": "aaf94e0a",
      "metadata": {
        "id": "aaf94e0a"
      },
      "outputs": [],
      "source": [
        "import numpy as np\n",
        "import matplotlib.pyplot as plt\n",
        "import pandas as pd\n",
        "import seaborn as sns\n",
        "\n",
        "# Entrenamiento de modelos de prueba\n",
        "from sklearn.linear_model import LinearRegression\n",
        "\n",
        "# Evaluación de modelos de prueba\n",
        "from sklearn.metrics import roc_auc_score\n",
        "from sklearn.metrics import mean_squared_error\n",
        "\n",
        "# Partición de train-test set\n",
        "from sklearn.model_selection import train_test_split\n",
        "\n",
        "# Crear datasets\n",
        "from sklearn.datasets import make_regression"
      ]
    },
    {
      "cell_type": "markdown",
      "id": "z4CnDndvBlc6",
      "metadata": {
        "id": "z4CnDndvBlc6"
      },
      "source": [
        "Vamos a crear un dataset sintetico utilizando las librerias de [Sklearn Datasets](https://scikit-learn.org/stable/modules/generated/sklearn.datasets.make_regression.html), en particular nos interesa crear un problema de regresion\n",
        "lineal al que podemos variarle sus parametros"
      ]
    },
    {
      "cell_type": "code",
      "execution_count": 30,
      "id": "65843123",
      "metadata": {
        "colab": {
          "base_uri": "https://localhost:8080/"
        },
        "id": "65843123",
        "outputId": "6589754e-2630-4c3d-cd45-b5f10ad8dc49"
      },
      "outputs": [
        {
          "data": {
            "text/plain": [
              "(1000, 2)"
            ]
          },
          "execution_count": 30,
          "metadata": {},
          "output_type": "execute_result"
        }
      ],
      "source": [
        "# Creamos un dataset de prueba\n",
        "X, y = make_regression(n_samples = 1000,\n",
        "                       n_features = 1,\n",
        "                       noise = 2,\n",
        "                       n_informative = 1,\n",
        "                       random_state = 42)\n",
        "\n",
        "new_data = np.append(X,y.reshape(-1,1),axis=1)\n",
        "new_data.shape"
      ]
    },
    {
      "cell_type": "code",
      "execution_count": 31,
      "id": "a52eSwfzCslx",
      "metadata": {
        "colab": {
          "base_uri": "https://localhost:8080/",
          "height": 206
        },
        "id": "a52eSwfzCslx",
        "outputId": "51d2ef98-ff3b-4182-966e-a03b1a14ba1a"
      },
      "outputs": [
        {
          "data": {
            "text/html": [
              "<div>\n",
              "<style scoped>\n",
              "    .dataframe tbody tr th:only-of-type {\n",
              "        vertical-align: middle;\n",
              "    }\n",
              "\n",
              "    .dataframe tbody tr th {\n",
              "        vertical-align: top;\n",
              "    }\n",
              "\n",
              "    .dataframe thead th {\n",
              "        text-align: right;\n",
              "    }\n",
              "</style>\n",
              "<table border=\"1\" class=\"dataframe\">\n",
              "  <thead>\n",
              "    <tr style=\"text-align: right;\">\n",
              "      <th></th>\n",
              "      <th>feature_1</th>\n",
              "      <th>target</th>\n",
              "    </tr>\n",
              "  </thead>\n",
              "  <tbody>\n",
              "    <tr>\n",
              "      <th>0</th>\n",
              "      <td>-1.758739</td>\n",
              "      <td>-30.118736</td>\n",
              "    </tr>\n",
              "    <tr>\n",
              "      <th>1</th>\n",
              "      <td>1.031845</td>\n",
              "      <td>14.526197</td>\n",
              "    </tr>\n",
              "    <tr>\n",
              "      <th>2</th>\n",
              "      <td>-0.487606</td>\n",
              "      <td>-10.119305</td>\n",
              "    </tr>\n",
              "    <tr>\n",
              "      <th>3</th>\n",
              "      <td>0.186454</td>\n",
              "      <td>1.700188</td>\n",
              "    </tr>\n",
              "    <tr>\n",
              "      <th>4</th>\n",
              "      <td>0.725767</td>\n",
              "      <td>12.345314</td>\n",
              "    </tr>\n",
              "  </tbody>\n",
              "</table>\n",
              "</div>"
            ],
            "text/plain": [
              "   feature_1     target\n",
              "0  -1.758739 -30.118736\n",
              "1   1.031845  14.526197\n",
              "2  -0.487606 -10.119305\n",
              "3   0.186454   1.700188\n",
              "4   0.725767  12.345314"
            ]
          },
          "execution_count": 31,
          "metadata": {},
          "output_type": "execute_result"
        }
      ],
      "source": [
        "df = pd.DataFrame(new_data)\n",
        "\n",
        "new_col = []\n",
        "i = 0\n",
        "for col in df.columns:\n",
        "    if i ==  len(df.columns) - 1:\n",
        "        new_col.append(\"target\")\n",
        "    else :\n",
        "        new_col.append(\"feature_\" + str(i+1))\n",
        "        \n",
        "    i += 1\n",
        "    \n",
        "df.columns = new_col\n",
        "\n",
        "df.head()"
      ]
    },
    {
      "cell_type": "code",
      "execution_count": 32,
      "id": "CBb_QmSZCPFZ",
      "metadata": {
        "colab": {
          "base_uri": "https://localhost:8080/",
          "height": 374
        },
        "id": "CBb_QmSZCPFZ",
        "outputId": "a7c8b051-581d-4267-8bad-5db770be6740"
      },
      "outputs": [
        {
          "data": {
            "image/png": "[encoded data removed]",
            "text/plain": [
              "<Figure size 1584x432 with 2 Axes>"
            ]
          },
          "metadata": {
            "needs_background": "light"
          },
          "output_type": "display_data"
        }
      ],
      "source": [
        "fig,axes = plt.subplots(2,figsize=(22,6))\n",
        "axes[0].scatter(X,y)\n",
        "sns.histplot(X, ax=axes[1]);"
      ]
    },
    {
      "cell_type": "markdown",
      "id": "zTvu6e3KhEKG",
      "metadata": {
        "id": "zTvu6e3KhEKG"
      },
      "source": [
        "## Funciones auxiliares para generar datos anómalos"
      ]
    },
    {
      "cell_type": "code",
      "execution_count": 61,
      "id": "_LqDjS8chDkY",
      "metadata": {
        "id": "_LqDjS8chDkY"
      },
      "outputs": [],
      "source": [
        "def generate_nulls(df: pd.DataFrame,\n",
        "                   cols: list = None,\n",
        "                   percentage: float = 0.05) -> pd.DataFrame:\n",
        "  \"\"\"Con esta función vamos a poder generar nulos en ciertas columnas de nuestro\n",
        "  dataset.\n",
        "  \"\"\"  \n",
        "  cols = df.columns.tolist() if cols is None else cols\n",
        "  seeds = np.random.randint(100, size = len(cols))\n",
        "  \n",
        "  nsamples = np.math.floor(len(df) * percentage)\n",
        "\n",
        "  result = df.copy(deep = True)\n",
        "  for i,col_name in enumerate(cols):\n",
        "      np.random.seed(seeds[i])\n",
        "      \n",
        "      idx_to_remove = result[col_name].sample(n = nsamples).index\n",
        "      result[col_name].iloc[idx_to_remove] = np.nan if result[col_name].dtype in [int,float] else None\n",
        "  \n",
        "  return result\n",
        "\n",
        "def generate_outliers(df: pd.DataFrame,\n",
        "                     cols: list = None,\n",
        "                     extreme_outlier: bool = False,\n",
        "                     percentage: float = 0.02) -> pd.DataFrame:\n",
        "  \"\"\"Con esta función vamos a poder generar outliers en ciertas columnas de nuestro\n",
        "  dataset. Si le damos True a _extreme_outlier_ va a generar outliers con mucho\n",
        "  peso en la regresión\n",
        "  \"\"\"  \n",
        "  seeds = np.random.randint(100, size = len(df))\n",
        "  \n",
        "  nsamples = np.math.floor(len(df) * percentage)\n",
        "  idx_to_change = df.sample(n = nsamples).index\n",
        "\n",
        "  cols = df.columns.tolist() if cols is None else cols\n",
        "\n",
        "  result = df.copy(deep = True)\n",
        "  \n",
        "  for i,col_name in enumerate(cols):\n",
        "    np.random.seed(seeds[i])\n",
        "\n",
        "    if extreme_outlier:\n",
        "      iqr = result[col_name].quantile(0.75) - result[col_name].quantile(0.25)\n",
        "      max_val = 3*iqr\n",
        "      outlier_sign = [1 if np.random.random() < 0.5 else -1 for _ in range(nsamples)]\n",
        "      outliers = np.multiply(outlier_sign, np.random.uniform(low = iqr,\n",
        "                                                          high = max_val,\n",
        "                                                          size = nsamples))\n",
        "      \n",
        "      result[col_name].loc[idx_to_change] = outliers\n",
        "    else:\n",
        "      samples = result[col_name].loc[idx_to_change].values\n",
        "      np.random.shuffle(samples)\n",
        "      result[col_name].iloc[idx_to_change] = samples\n",
        "  return result"
      ]
    },
    {
      "cell_type": "code",
      "execution_count": 63,
      "id": "cbd9edbc",
      "metadata": {},
      "outputs": [
        {
          "data": {
            "text/html": [
              "<div>\n",
              "<style scoped>\n",
              "    .dataframe tbody tr th:only-of-type {\n",
              "        vertical-align: middle;\n",
              "    }\n",
              "\n",
              "    .dataframe tbody tr th {\n",
              "        vertical-align: top;\n",
              "    }\n",
              "\n",
              "    .dataframe thead th {\n",
              "        text-align: right;\n",
              "    }\n",
              "</style>\n",
              "<table border=\"1\" class=\"dataframe\">\n",
              "  <thead>\n",
              "    <tr style=\"text-align: right;\">\n",
              "      <th></th>\n",
              "      <th>feature_1</th>\n",
              "      <th>target</th>\n",
              "    </tr>\n",
              "  </thead>\n",
              "  <tbody>\n",
              "    <tr>\n",
              "      <th>0</th>\n",
              "      <td>-1.758739</td>\n",
              "      <td>-30.118736</td>\n",
              "    </tr>\n",
              "    <tr>\n",
              "      <th>1</th>\n",
              "      <td>1.031845</td>\n",
              "      <td>14.526197</td>\n",
              "    </tr>\n",
              "    <tr>\n",
              "      <th>2</th>\n",
              "      <td>-0.487606</td>\n",
              "      <td>-10.119305</td>\n",
              "    </tr>\n",
              "    <tr>\n",
              "      <th>3</th>\n",
              "      <td>0.186454</td>\n",
              "      <td>1.700188</td>\n",
              "    </tr>\n",
              "    <tr>\n",
              "      <th>4</th>\n",
              "      <td>0.725767</td>\n",
              "      <td>12.345314</td>\n",
              "    </tr>\n",
              "    <tr>\n",
              "      <th>...</th>\n",
              "      <td>...</td>\n",
              "      <td>...</td>\n",
              "    </tr>\n",
              "    <tr>\n",
              "      <th>995</th>\n",
              "      <td>-1.918771</td>\n",
              "      <td>-30.210145</td>\n",
              "    </tr>\n",
              "    <tr>\n",
              "      <th>996</th>\n",
              "      <td>0.482472</td>\n",
              "      <td>9.182647</td>\n",
              "    </tr>\n",
              "    <tr>\n",
              "      <th>997</th>\n",
              "      <td>0.241962</td>\n",
              "      <td>4.855134</td>\n",
              "    </tr>\n",
              "    <tr>\n",
              "      <th>998</th>\n",
              "      <td>1.366874</td>\n",
              "      <td>25.785771</td>\n",
              "    </tr>\n",
              "    <tr>\n",
              "      <th>999</th>\n",
              "      <td>-1.059214</td>\n",
              "      <td>-16.584161</td>\n",
              "    </tr>\n",
              "  </tbody>\n",
              "</table>\n",
              "<p>1000 rows × 2 columns</p>\n",
              "</div>"
            ],
            "text/plain": [
              "     feature_1     target\n",
              "0    -1.758739 -30.118736\n",
              "1     1.031845  14.526197\n",
              "2    -0.487606 -10.119305\n",
              "3     0.186454   1.700188\n",
              "4     0.725767  12.345314\n",
              "..         ...        ...\n",
              "995  -1.918771 -30.210145\n",
              "996   0.482472   9.182647\n",
              "997   0.241962   4.855134\n",
              "998   1.366874  25.785771\n",
              "999  -1.059214 -16.584161\n",
              "\n",
              "[1000 rows x 2 columns]"
            ]
          },
          "execution_count": 63,
          "metadata": {},
          "output_type": "execute_result"
        }
      ],
      "source": [
        "generate_outliers(df,['target'], percentage = 0.01, extreme_outlier = True)"
      ]
    },
    {
      "cell_type": "code",
      "execution_count": 62,
      "id": "f3530e91",
      "metadata": {},
      "outputs": [
        {
          "data": {
            "text/html": [
              "<div>\n",
              "<style scoped>\n",
              "    .dataframe tbody tr th:only-of-type {\n",
              "        vertical-align: middle;\n",
              "    }\n",
              "\n",
              "    .dataframe tbody tr th {\n",
              "        vertical-align: top;\n",
              "    }\n",
              "\n",
              "    .dataframe thead th {\n",
              "        text-align: right;\n",
              "    }\n",
              "</style>\n",
              "<table border=\"1\" class=\"dataframe\">\n",
              "  <thead>\n",
              "    <tr style=\"text-align: right;\">\n",
              "      <th></th>\n",
              "      <th>feature_1</th>\n",
              "      <th>target</th>\n",
              "    </tr>\n",
              "  </thead>\n",
              "  <tbody>\n",
              "    <tr>\n",
              "      <th>0</th>\n",
              "      <td>-1.758739</td>\n",
              "      <td>-30.118736</td>\n",
              "    </tr>\n",
              "    <tr>\n",
              "      <th>1</th>\n",
              "      <td>1.031845</td>\n",
              "      <td>14.526197</td>\n",
              "    </tr>\n",
              "    <tr>\n",
              "      <th>2</th>\n",
              "      <td>-0.487606</td>\n",
              "      <td>-10.119305</td>\n",
              "    </tr>\n",
              "    <tr>\n",
              "      <th>3</th>\n",
              "      <td>0.186454</td>\n",
              "      <td>1.700188</td>\n",
              "    </tr>\n",
              "    <tr>\n",
              "      <th>4</th>\n",
              "      <td>0.725767</td>\n",
              "      <td>12.345314</td>\n",
              "    </tr>\n",
              "    <tr>\n",
              "      <th>...</th>\n",
              "      <td>...</td>\n",
              "      <td>...</td>\n",
              "    </tr>\n",
              "    <tr>\n",
              "      <th>995</th>\n",
              "      <td>-1.918771</td>\n",
              "      <td>-30.210145</td>\n",
              "    </tr>\n",
              "    <tr>\n",
              "      <th>996</th>\n",
              "      <td>0.482472</td>\n",
              "      <td>9.182647</td>\n",
              "    </tr>\n",
              "    <tr>\n",
              "      <th>997</th>\n",
              "      <td>0.241962</td>\n",
              "      <td>4.855134</td>\n",
              "    </tr>\n",
              "    <tr>\n",
              "      <th>998</th>\n",
              "      <td>1.366874</td>\n",
              "      <td>25.785771</td>\n",
              "    </tr>\n",
              "    <tr>\n",
              "      <th>999</th>\n",
              "      <td>-1.059214</td>\n",
              "      <td>-16.584161</td>\n",
              "    </tr>\n",
              "  </tbody>\n",
              "</table>\n",
              "<p>1000 rows × 2 columns</p>\n",
              "</div>"
            ],
            "text/plain": [
              "     feature_1     target\n",
              "0    -1.758739 -30.118736\n",
              "1     1.031845  14.526197\n",
              "2    -0.487606 -10.119305\n",
              "3     0.186454   1.700188\n",
              "4     0.725767  12.345314\n",
              "..         ...        ...\n",
              "995  -1.918771 -30.210145\n",
              "996   0.482472   9.182647\n",
              "997   0.241962   4.855134\n",
              "998   1.366874  25.785771\n",
              "999  -1.059214 -16.584161\n",
              "\n",
              "[1000 rows x 2 columns]"
            ]
          },
          "execution_count": 62,
          "metadata": {},
          "output_type": "execute_result"
        }
      ],
      "source": [
        "generate_outliers(df,['target'], percentage = 0.01, extreme_outlier = False)"
      ]
    },
    {
      "cell_type": "code",
      "execution_count": 64,
      "id": "mmnwCbF1gugP",
      "metadata": {
        "colab": {
          "base_uri": "https://localhost:8080/"
        },
        "id": "mmnwCbF1gugP",
        "outputId": "a27810fe-1f0f-40ef-99ac-dace0fc0eb92"
      },
      "outputs": [],
      "source": [
        "df_outlier = generate_outliers(df,['target'], percentage = 0.01, extreme_outlier = True)"
      ]
    },
    {
      "cell_type": "code",
      "execution_count": 65,
      "id": "hhG41UImwtKg",
      "metadata": {
        "colab": {
          "base_uri": "https://localhost:8080/",
          "height": 298
        },
        "id": "hhG41UImwtKg",
        "outputId": "3e276ea3-e51b-40fd-88b0-847bb2d00a1a"
      },
      "outputs": [
        {
          "data": {
            "text/plain": [
              "<AxesSubplot:xlabel='feature_1', ylabel='target'>"
            ]
          },
          "execution_count": 65,
          "metadata": {},
          "output_type": "execute_result"
        },
        {
          "data": {
            "image/png": "[encoded data removed]",
            "text/plain": [
              "<Figure size 432x288 with 1 Axes>"
            ]
          },
          "metadata": {
            "needs_background": "light"
          },
          "output_type": "display_data"
        }
      ],
      "source": [
        "sns.scatterplot(data = pd.concat([df.assign(dataset = 'set1'),\n",
        "                                 df_outlier.assign(dataset = 'set2')]),\n",
        "                x = 'feature_1',\n",
        "                y = 'target',\n",
        "                hue = 'dataset')"
      ]
    },
    {
      "cell_type": "code",
      "execution_count": 66,
      "id": "29PGZV_B4o79",
      "metadata": {
        "id": "29PGZV_B4o79"
      },
      "outputs": [],
      "source": [
        "columnas_a_modificar = ['feature_1'] \n",
        "df_missing = generate_nulls(df,columnas_a_modificar, percentage = 0.01)"
      ]
    },
    {
      "cell_type": "code",
      "execution_count": 67,
      "id": "1JOMgSjy43uf",
      "metadata": {
        "colab": {
          "base_uri": "https://localhost:8080/"
        },
        "id": "1JOMgSjy43uf",
        "outputId": "5b0f2496-a995-45e5-8335-b652fadc763b"
      },
      "outputs": [
        {
          "data": {
            "text/plain": [
              "feature_1    10\n",
              "target        0\n",
              "dtype: int64"
            ]
          },
          "execution_count": 67,
          "metadata": {},
          "output_type": "execute_result"
        }
      ],
      "source": [
        "df_missing.isna().sum()"
      ]
    },
    {
      "cell_type": "markdown",
      "id": "1ac07426",
      "metadata": {},
      "source": [
        "# Primera Parte"
      ]
    },
    {
      "cell_type": "markdown",
      "id": "N_XkGtvw7J-i",
      "metadata": {
        "id": "N_XkGtvw7J-i"
      },
      "source": [
        "## Ejercicio 1\n",
        "\n",
        "Crear una función que separe los datos en train-validation-test 70-20-10\n",
        "\n",
        "\n",
        "Hints: \n",
        "\n",
        "* Usar Indexing y slicing\n",
        "* Usar np.random.[...]"
      ]
    },
    {
      "cell_type": "code",
      "execution_count": null,
      "id": "yIOYdDHz7Jkp",
      "metadata": {
        "id": "yIOYdDHz7Jkp"
      },
      "outputs": [],
      "source": [
        "def split(df: pd.DataFrame, train_size: float):\n",
        "\n",
        "    return X_train, X_val, X_test, Y_train, Y_val, Y_test"
      ]
    },
    {
      "cell_type": "code",
      "execution_count": null,
      "id": "62552dfa",
      "metadata": {},
      "outputs": [],
      "source": [
        "from sklearn.model_selection import train_test_split\n",
        "\n",
        "X_train,X_test, Y_train, Y_test = train_test_split(df.feature_1,\n",
        "                                                   df.target,\n",
        "                                                   test_size = 0.3)\n",
        "\n",
        "X_val, X_test, Y_val, Y_test = train_test_split(X_test,\n",
        "                                               Y_test,\n",
        "                                               train_size = xxx)"
      ]
    },
    {
      "cell_type": "markdown",
      "id": "c51994ab",
      "metadata": {
        "id": "c51994ab"
      },
      "source": [
        "## Ejercicio 2\n",
        "\n",
        "Utilizando la funcion `generate_nulls`. Insertar en la columna de features un 5% de valores nulos. Con esto, generar una función que les permita rellenar estos valores con la mediana, y otro con la media.\n",
        "\n",
        "Compare los __scores__ obtenidos en las regresiones cuando tiene el dataset completo, y con los dos métodos de imputación. ¿Cambian mucho?"
      ]
    },
    {
      "cell_type": "code",
      "execution_count": null,
      "id": "b8c44b25",
      "metadata": {},
      "outputs": [],
      "source": [
        "df.feature_1.median()"
      ]
    },
    {
      "cell_type": "code",
      "execution_count": null,
      "id": "de6919a5",
      "metadata": {
        "id": "de6919a5",
        "outputId": "55fef8af-0856-44b5-b46a-3f8be4d28fb9"
      },
      "outputs": [],
      "source": [
        "def mean_imputer(df: pd.DataFrame, columns: str) -> pd.DataFrame:\n",
        "    pass\n",
        "    "
      ]
    },
    {
      "cell_type": "code",
      "execution_count": null,
      "id": "Uq2ZEyio66-p",
      "metadata": {
        "id": "Uq2ZEyio66-p"
      },
      "outputs": [],
      "source": [
        "def median_imputer(df: pd.DataFrame, columns: str) -> pd.DataFrame:\n",
        "    pass\n",
        "    "
      ]
    },
    {
      "cell_type": "markdown",
      "id": "808ffcaa",
      "metadata": {
        "id": "808ffcaa"
      },
      "source": [
        "## Ejercicio 3\n",
        "\n",
        "Los resultados del ejercicio 2 ¿Cómo se ven afectados cuando empezamos a a tener muchos más valores imputados? Pruebe con distintos porcentajes."
      ]
    },
    {
      "cell_type": "code",
      "execution_count": null,
      "id": "6b5U2d0C6agm",
      "metadata": {
        "id": "6b5U2d0C6agm"
      },
      "outputs": [],
      "source": []
    },
    {
      "cell_type": "markdown",
      "id": "b77ad81a",
      "metadata": {
        "id": "b77ad81a"
      },
      "source": [
        "## Ejercicio 4\n",
        "\n",
        "Utilizando la funcion `generate_outliers` generar puntos extremos dentro de los datos que generamos anteriormente. En este ejercicio dejar setteado `extreme_outliers` como `False` y observe como variando el porcentaje de los mismos la regresión comienza a afectarse."
      ]
    },
    {
      "cell_type": "code",
      "execution_count": null,
      "id": "VKkw3PwY8JC7",
      "metadata": {
        "id": "VKkw3PwY8JC7"
      },
      "outputs": [],
      "source": []
    },
    {
      "cell_type": "markdown",
      "id": "d481762b",
      "metadata": {
        "id": "d481762b"
      },
      "source": [
        "## Ejercicio 5\n",
        "\n",
        "Generar ahora valores extremos utilizando `extreme_outliers`. ¿Cómo afecta esto a la regresión? ¿Se observa algo interesante?\n"
      ]
    },
    {
      "cell_type": "code",
      "execution_count": null,
      "id": "34b43474",
      "metadata": {
        "id": "34b43474"
      },
      "outputs": [],
      "source": []
    },
    {
      "cell_type": "markdown",
      "id": "tkxP2BID8XqM",
      "metadata": {
        "id": "tkxP2BID8XqM"
      },
      "source": [
        "## Ejercicio 6\n",
        "\n",
        "utilizando el archivo CSV `clase3v2.csv`, vamos a cargarlo como dataframe y deberemos:\n",
        " - Generar splits de training/test\n",
        " - Limpiar/Imputar datos Nulos\n",
        " - Entrenar un modelo de regresión multivariada\n",
        " - Reportar $R^2$ en test."
      ]
    },
    {
      "cell_type": "code",
      "execution_count": null,
      "id": "vv1_2NZ78w9x",
      "metadata": {
        "id": "vv1_2NZ78w9x"
      },
      "outputs": [],
      "source": [
        "data_happiness = pd.read_csv('clase3v2.csv', delimiter = ';')"
      ]
    },
    {
      "cell_type": "markdown",
      "id": "hCNvuKcF8-fM",
      "metadata": {
        "id": "hCNvuKcF8-fM"
      },
      "source": [
        "## Ejercicio 7\n",
        "\n",
        "Por último, manteniendo un dataset limpio como el que generamos previo al ejercio 1, utilizando `make_regression` de `scikit-learn`. Analizar que pasa si comenzamos a modificar el parametro `noise`"
      ]
    },
    {
      "cell_type": "code",
      "execution_count": null,
      "id": "Os_Et7Ww9V6I",
      "metadata": {
        "id": "Os_Et7Ww9V6I"
      },
      "outputs": [],
      "source": []
    },
    {
      "cell_type": "markdown",
      "id": "2be66065",
      "metadata": {},
      "source": [
        "# Segunda parte"
      ]
    },
    {
      "cell_type": "markdown",
      "id": "hCNvuKcF8-fM",
      "metadata": {
        "id": "hCNvuKcF8-fM"
      },
      "source": [
        "\n",
        "## Ejercicio 8\n",
        "\n",
        "Vamos a tomar dos dataframes creados uno en el ejercicio 4 y otro del 5, utilizando el modelo `HuberRegressor` en `linear_model` de `scikit-learn`. Vamos a entrenar dos modelos robustos, el modelo mejora?\n",
        "\n",
        "***Nota:*** Utilizar los valores por defecto del modelo"
      ]
    },
    {
      "cell_type": "code",
      "execution_count": null,
      "id": "Os_Et7Ww9V6I",
      "metadata": {
        "id": "Os_Et7Ww9V6I"
      },
      "outputs": [],
      "source": []
    },
    {
      "cell_type": "markdown",
      "id": "hCNvuKcF8-fM",
      "metadata": {
        "id": "hCNvuKcF8-fM"
      },
      "source": [
        "## Ejercicio 9 (Opcional)\n",
        "\n",
        "Utilizando este esta funcion de Gradiente descendente de como idea, codear su implementación de Sthocastic Gradient Descent (SGD)"
      ]
    },
    {
      "cell_type": "markdown",
      "id": "e7640f2b",
      "metadata": {},
      "source": [
        "```python\n",
        "\n",
        "def ssr_gradient(x, y, b):\n",
        "    res = b[0] + b[1] * x - y\n",
        "    return res.mean(), (res * x).mean()\n",
        "\n",
        "def gradient_descent(\n",
        "    x: list,\n",
        "    y: list,\n",
        "    start: list,\n",
        "    learn_rate: float = 0.1,\n",
        "    n_iter: int = 50,\n",
        "    tolerance: float =1e-06\n",
        "):\n",
        "    vector = start\n",
        "    for _ in range(n_iter):\n",
        "        diff = -learn_rate * np.array(ssr_gradient(x, y, vector))\n",
        "        if np.all(np.abs(diff) <= tolerance):\n",
        "            break\n",
        "        vector += diff\n",
        "    return vector\n",
        "```"
      ]
    },
    {
      "cell_type": "code",
      "execution_count": null,
      "id": "07276b0c",
      "metadata": {},
      "outputs": [],
      "source": []
    },
    {
      "cell_type": "markdown",
      "id": "614867ea",
      "metadata": {},
      "source": [
        "# Tercera Parte\n",
        "\n",
        "Vamos a crear un nuevo dataset, para ello vamos a usar el metodo `make_classification` de `sklearn`"
      ]
    },
    {
      "cell_type": "code",
      "execution_count": null,
      "id": "fb57518c",
      "metadata": {},
      "outputs": [],
      "source": [
        "from sklearn.datasets import make_classification\n",
        "from sklearn.linear_model import LogisticRegression\n",
        "\n",
        "X, y = make_classification(\n",
        "    n_samples = 1000,\n",
        "    n_features=2,\n",
        "    n_redundant=0,\n",
        "    n_informative=2,\n",
        "    random_state=1,\n",
        "    n_classes=2,\n",
        "    n_clusters_per_class=1\n",
        ")"
      ]
    },
    {
      "cell_type": "markdown",
      "id": "c2034612",
      "metadata": {},
      "source": [
        "## Ejercicio 10\n",
        "\n",
        "Con el dataset creado para clasficación vamos a utilizar el modelo `LogisticRegression`. Vamos a entrenar modelos variando los parámetros en particular `tol` y `max_iter`.\n",
        "¿Cómo cambian estas regresiones?\n"
      ]
    },
    {
      "cell_type": "code",
      "execution_count": null,
      "id": "bea80317",
      "metadata": {},
      "outputs": [],
      "source": []
    },
    {
      "cell_type": "markdown",
      "id": "3a762700",
      "metadata": {},
      "source": [
        "## Ejercicio 11\n",
        "\n",
        "Vamos a utilizar ahora el dataset de [iris](https://scikit-learn.org/stable/modules/generated/sklearn.datasets.load_iris.html). Utilizando `LogisticRegression` vamos a realizar un clasificador multiclases.\n",
        "¿Cómo se compara con el modelo de `Perceptron`?"
      ]
    },
    {
      "cell_type": "code",
      "execution_count": null,
      "id": "81e5c649",
      "metadata": {},
      "outputs": [],
      "source": [
        "from sklearn.datasets import load_iris\n",
        "X,y = load_iris(return_X_y=True, as_frame=True)"
      ]
    },
    {
      "cell_type": "markdown",
      "id": "24bd540e",
      "metadata": {},
      "source": [
        "HINT: La clase perceptron la pueden utilizar así\n",
        "\n",
        "```python\n",
        "from sklearn.linear_model import Perceptron\n",
        "X, y = load_iris(return_X_y=True, as_frame=True)\n",
        "clf = Perceptron(tol=1e-3, random_state=0)\n",
        "clf.fit(X, y)\n",
        "\n",
        "clf.score(X, y)\n",
        "```"
      ]
    },
    {
      "cell_type": "code",
      "execution_count": null,
      "id": "0ac0f917",
      "metadata": {},
      "outputs": [],
      "source": []
    }
  ],
  "metadata": {
    "colab": {
      "collapsed_sections": [],
      "name": "Practica_clase_3.ipynb",
      "provenance": []
    },
    "kernelspec": {
      "display_name": "Python 3.9.6 64-bit",
      "language": "python",
      "name": "python3"
    },
    "language_info": {
      "codemirror_mode": {
        "name": "ipython",
        "version": 3
      },
      "file_extension": ".py",
      "mimetype": "text/x-python",
      "name": "python",
      "nbconvert_exporter": "python",
      "pygments_lexer": "ipython3",
      "version": "3.9.6"
    },
    "vscode": {
      "interpreter": {
        "hash": "11938c6bc6919ae2720b4d5011047913343b08a43b18698fd82dedb0d4417594"
      }
    }
  },
  "nbformat": 4,
  "nbformat_minor": 5
}
